{
 "cells": [
  {
   "cell_type": "markdown",
   "id": "4193a91b",
   "metadata": {},
   "source": [
    "## TPC8: Teste de aferição\n",
    "\n",
    "Resolva os problemas apresentados a seguir."
   ]
  },
  {
   "cell_type": "markdown",
   "id": "ecb162bd",
   "metadata": {},
   "source": [
    "### tpc-1. Especifique as seguintes listas em compreensão:"
   ]
  },
  {
   "cell_type": "markdown",
   "id": "4e758271",
   "metadata": {},
   "source": [
    "#### a) Lista formada pelos elementos que não são comuns às duas listas:"
   ]
  },
  {
   "cell_type": "code",
   "execution_count": 1,
   "id": "1fe48423",
   "metadata": {},
   "outputs": [
    {
     "name": "stdout",
     "output_type": "stream",
     "text": [
      "[1, 2, 3, 6, 7, 8]\n"
     ]
    }
   ],
   "source": [
    "lista1 = [1, 2, 3, 4, 5]\n",
    "lista2 = [4, 5, 6, 7, 8]  \n",
    "comuns = []\n",
    "for num1 in lista1:\n",
    "    if num1 not in lista2:\n",
    "        comuns.append(num1)\n",
    "for num2 in lista2:\n",
    "    if num2 not in lista1:\n",
    "        comuns.append(num2)\n",
    "print(comuns)\n",
    "\n",
    "# Resultado esperado: [1,2,3,7,8]"
   ]
  },
  {
   "cell_type": "markdown",
   "id": "0ded2f03",
   "metadata": {},
   "source": [
    "#### b) Lista formada pelas palavras do texto compostas por mais de 3 letras:"
   ]
  },
  {
   "cell_type": "code",
   "execution_count": 3,
   "id": "4ae7f5d0",
   "metadata": {},
   "outputs": [
    {
     "data": {
      "text/plain": [
       "[' Vivia',\n",
       " ' poucos',\n",
       " ' anos',\n",
       " ' algures',\n",
       " ' concelho',\n",
       " ' Ribatejo',\n",
       " ' pequeno',\n",
       " ' lavrador',\n",
       " ' negociante',\n",
       " ' gado',\n",
       " ' chamado',\n",
       " ' Manuel',\n",
       " ' Peres']"
      ]
     },
     "execution_count": 3,
     "metadata": {},
     "output_type": "execute_result"
    }
   ],
   "source": [
    "texto = \"\"\"Vivia há já não poucos anos algures num concelho do Ribatejo \n",
    "    um pequeno lavrador e negociante de gado chamado Manuel Peres Vigário\"\"\"\n",
    "def palavra3L(texto):\n",
    "    lista = []\n",
    "    cont = 0\n",
    "    palavra = \" \"\n",
    "    for c in texto:     # percorrer todos os carateres no texto\n",
    "        if c != \" \":\n",
    "            cont = cont + 1         # fazer a contagem dos carateres\n",
    "            palavra = palavra + c   #ir juntando à palavra\n",
    "        else:\n",
    "            if cont > 3:               # se palavra ja tiver mais de 3 carateres\n",
    "                lista.append(palavra)\n",
    "                cont = 0        # reinicia a contagem\n",
    "                palavra = \" \"   # espaço para nova palavra\n",
    "            else:\n",
    "                cont = 0\n",
    "                palavra = \" \"\n",
    "    return lista\n",
    "\n",
    "palavra3L(texto)\n",
    "# Resultado esperado: ['Vivia', 'poucos', 'anos', 'algures', 'concelho', ...]"
   ]
  },
  {
   "cell_type": "markdown",
   "id": "ecf72afd",
   "metadata": {},
   "source": [
    "#### c) Lista formada por pares do tipo (índice, valor) com os valores da lista dada:"
   ]
  },
  {
   "cell_type": "code",
   "execution_count": null,
   "id": "876b2cc3",
   "metadata": {},
   "outputs": [],
   "source": [
    "lista = ['anaconda', 'burro', 'cavalo', 'macaco']\n",
    "listaRes = []\n",
    "def indValor(lista):\n",
    "    i = 1                   # número do índice, começa no 1\n",
    "    for nome in lista:\n",
    "        par = i, nome\n",
    "        lista.append(par)\n",
    "        i = i + 1\n",
    "    return listaRes\n",
    "\n",
    "indValor(lista)\n",
    "\n",
    "# Resultado esperado: [(1,'anaconda'), (2,'burro'), (3,'cavalo'), (4,'macaco')]"
   ]
  },
  {
   "cell_type": "markdown",
   "id": "28cb3dc4",
   "metadata": {},
   "source": [
    "### tpc-2. À semelhança do que foi feito nas aulas, realize as seguintes tarefas:"
   ]
  },
  {
   "cell_type": "markdown",
   "id": "5d3f1dbe",
   "metadata": {},
   "source": [
    "#### a) Especifique uma função que dada uma string e uma substring não vazia, calcula  o número de vezes em que a substring aparece na string, sem que haja sobreposição de substrings:"
   ]
  },
  {
   "cell_type": "code",
   "execution_count": null,
   "id": "4458c7bc",
   "metadata": {},
   "outputs": [
    {
     "data": {
      "text/plain": [
       "0"
      ]
     },
     "execution_count": 6,
     "metadata": {},
     "output_type": "execute_result"
    }
   ],
   "source": [
    "def strCount(s, subs):\n",
    "    n = 0\n",
    "    ocor = 0\n",
    "    while n < (len(s) - (len(subs) - 1)):     # para o loop parar antes que o n passe do ultimo ponto onde a substring pode começar, neste caso len(subs) - 1\n",
    "\n",
    "    # usando slicing começando em n e indo até n+len(subs):\n",
    "        if s[n: n + len(subs)] == subs:       # para verificar se a substring de s, que começa na posição n e com o mesmo comprimento que subs, é igual a subs\n",
    "            ocor = ocor + 1\n",
    "        n = n + 1\n",
    "        \n",
    "    return ocor\n",
    "\n",
    "strCount(\"catcowcat\", \"cat\") # --> 2\n",
    "strCount(\"catcowcat\", \"cow\") # --> 1\n",
    "strCount(\"catcowcat\", \"dog\") # --> 0"
   ]
  },
  {
   "cell_type": "markdown",
   "id": "e6db31d7",
   "metadata": {},
   "source": [
    "#### b) Especifique uma função que recebe uma lista de números inteiros positivos e devolve o menor produto que for possível calcular multiplicando os 3 menores inteiros da lista:"
   ]
  },
  {
   "cell_type": "code",
   "execution_count": null,
   "id": "2b5ad344",
   "metadata": {},
   "outputs": [],
   "source": [
    "def produtoM3(lista):\n",
    "    lista.sort()        # ordenar a lista por ordem crescente\n",
    "    produto = (lista[0] * lista[1] * lista[2])      # escolher os 3 primeiros números que são os mais pequenos\n",
    "\n",
    "    return  produto\n",
    "\n",
    "print(produtoM3([12,3,7,10,12,8,9]))\n",
    "# Resultado esperado: 168 = 3 * 7 * 8"
   ]
  },
  {
   "cell_type": "markdown",
   "id": "6698b337",
   "metadata": {},
   "source": [
    "#### c) Especifique uma função que dado um número inteiro positivo, repetidamente adiciona os seus dígitos até obter apenas um dígito que é retornado como resultado:"
   ]
  },
  {
   "cell_type": "code",
   "execution_count": null,
   "id": "54cef309",
   "metadata": {},
   "outputs": [],
   "source": [
    "# Input: 38\n",
    "# Output: 2\n",
    "# Explicação: 3 + 8 = 11, 1 + 1 = 2.\n",
    "\n",
    "# Input: 777\n",
    "# Output: 3\n",
    "# Explicação: 7 + 7 + 7 = 21, 2 + 1 = 3.\n",
    "\n",
    "def reduxInt(n):\n",
    "    while len(str(n)) > 1:      # enquanto que o comprimento do número não for igual a 1\n",
    "        res = 0\n",
    "        for c in str(n):        # percorrer cada digito no número e convertendo para string\n",
    "            res = res + int(c)     # coverter novamente a string para numero e juntar a res\n",
    "        n = res                    # n vai ficar com o valor de res e cotinuar a somar até que só tenha 1 dígito\n",
    "    return res\n",
    "\n",
    "reduxInt(1234)"
   ]
  },
  {
   "cell_type": "markdown",
   "id": "4a47b6e8",
   "metadata": {},
   "source": [
    "#### d) Especifique uma função que recebe duas strings, `string1` e `string2`, e devolve o índice da primeira ocorrência de `string2` em `string1`, caso não ocorra nenhuma vez a função deverá retornar `-1`:"
   ]
  },
  {
   "cell_type": "code",
   "execution_count": null,
   "id": "f0f4c2a8",
   "metadata": {},
   "outputs": [
    {
     "data": {
      "text/plain": [
       "-1"
      ]
     },
     "execution_count": 5,
     "metadata": {},
     "output_type": "execute_result"
    }
   ],
   "source": [
    "# Invocação: indexOf(\"Hoje está um belo dia de sol!\", \"belo\")\n",
    "# Resultado: 13\n",
    "\n",
    "# Invocação: indexOf(\"Hoje está um belo dia de sol!\", \"chuva\")\n",
    "# Resultado: -1\n",
    "\n",
    "def myIndexOf(s1, s2):\n",
    "    n = 0\n",
    "    valor = False\n",
    "    while (len(s1) - len(s2)) > n:          # veirifcar se s2 ainda cabe em s1 (0 + len(s2) -> tamanho de s2)\n",
    "        if s1[n: (n + (len(s2)))] == s2:    # ver se s2 está em s1 através do slicing\n",
    "            valor = True\n",
    "            m = n   # guardar o índice n em m\n",
    "        n = n + 1   # avança para o próximo índice em s1\n",
    "    \n",
    "\n",
    "# verificar se o valor é True\n",
    "    if valor == True:\n",
    "        return m            # retorna o índice onde foi encntrada a palavra\n",
    "    else: \n",
    "        return - 1          # retorna -1 se a palavra ainda não foi encontrada\n",
    "\n",
    "\n",
    "myIndexOf(\"Hoje está um belo dia de sol!\", \"belo\")\n",
    "myIndexOf(\"Hoje está um belo dia de sol!\", \"chuva\")"
   ]
  },
  {
   "cell_type": "markdown",
   "id": "7cd572fc",
   "metadata": {},
   "source": [
    "### tpc-3. A Rede Social\n",
    "\n",
    "Considere que a informação sobre uma rede social está armazenada numa lista de dicionários.\n",
    "\n",
    "Cada dicionário, correspondente a um _post_ e tem chaves `id`, `conteudo`, `autor`, `dataCriacao` e `comentarios`.\n",
    "Por sua vez, `comentarios` é uma lista de dicionários com chaves `comentario` e `autor`.\n",
    "\n",
    "Considere o seguinte exemplo:\n",
    "\n",
    "``` \n",
    "    MyFaceBook = [{\n",
    "        'id': 'p1', \n",
    "        'conteudo': 'A tarefa de avaliação é talvez a mais ingrata das tarefas que um professor\n",
    "    tem de realizar...', \n",
    "        'autor': 'jcr', \n",
    "        'dataCriacao': '2023-07-20', \n",
    "        'comentarios': [\n",
    "            {\n",
    "                'comentario': 'Completamente de acordo...',\n",
    "                'autor': 'prh'\n",
    "            },\n",
    "            {\n",
    "                'comentario': 'Mas há quem goste...',\n",
    "                'autor': 'jj'\n",
    "            }\n",
    "        ]},\n",
    "        {\n",
    "            'id': 'p2',\n",
    "            ...\n",
    "        },\n",
    "        ...\n",
    "        ]\n",
    "```"
   ]
  },
  {
   "cell_type": "markdown",
   "id": "89afc758",
   "metadata": {},
   "source": [
    "Defina as seguintes funções de manipulação e consulta da rede social:"
   ]
  },
  {
   "cell_type": "code",
   "execution_count": null,
   "id": "05a854ef",
   "metadata": {},
   "outputs": [],
   "source": [
    "MyFaceBook = [{'id': 'p1', \n",
    "        'conteudo': 'A tarefa de avaliação é talvez a mais ingrata das tarefas que um professor tem de realizar...', \n",
    "        'autor': 'jcr', \n",
    "        'dataCriacao': '2023-07-20', \n",
    "        'comentarios': [{'comentario': 'Completamente de acordo...','autor': 'prh'},{'comentario': 'Mas há quem goste...','autor': 'jj'}]}]"
   ]
  },
  {
   "cell_type": "markdown",
   "id": "1aec6cd8",
   "metadata": {},
   "source": [
    "#### a) `quantosPost`, que indica quantos posts estão registados:"
   ]
  },
  {
   "cell_type": "code",
   "execution_count": null,
   "id": "39a813ee",
   "metadata": {},
   "outputs": [
    {
     "name": "stdout",
     "output_type": "stream",
     "text": [
      "1\n"
     ]
    }
   ],
   "source": [
    "def quantosPost(redeSocial):\n",
    "    n = 0\n",
    "    for id in redeSocial:\n",
    "        n = n +1\n",
    "    \n",
    "    return n\n",
    "\n",
    "print(quantosPost(MyFaceBook))"
   ]
  },
  {
   "cell_type": "markdown",
   "id": "2156a0c8",
   "metadata": {},
   "source": [
    "#### b)  `postsAutor`, que devolve a lista de posts de um determinado autor:"
   ]
  },
  {
   "cell_type": "code",
   "execution_count": null,
   "id": "8a5a2a41",
   "metadata": {},
   "outputs": [
    {
     "name": "stdout",
     "output_type": "stream",
     "text": [
      "[{'id': 'p1', 'conteudo': 'A tarefa de avaliação é talvez a mais ingrata das tarefas que um professor tem de realizar...', 'autor': 'jcr', 'dataCriacao': '2023-07-20', 'comentarios': [{'comentario': 'Completamente de acordo...', 'autor': 'prh'}, {'comentario': 'Mas há quem goste...', 'autor': 'jj'}]}]\n"
     ]
    }
   ],
   "source": [
    "def postsAutor(redeSocial, autor):\n",
    "    posts = []\n",
    "    for post in redeSocial:\n",
    "        if post['autor'] == autor:\n",
    "            posts.append(post)\n",
    "    \n",
    "    return posts\n",
    "\n",
    "print(postsAutor(MyFaceBook, \"jcr\"))"
   ]
  },
  {
   "cell_type": "markdown",
   "id": "12f9126b",
   "metadata": {},
   "source": [
    "#### c) `autores`, que devolve a lista de autores de posts ordenada alfabeticamente:"
   ]
  },
  {
   "cell_type": "code",
   "execution_count": null,
   "id": "d9dfe30a",
   "metadata": {},
   "outputs": [
    {
     "name": "stdout",
     "output_type": "stream",
     "text": [
      "['jcr']\n"
     ]
    }
   ],
   "source": [
    "def autores(redeSocial):\n",
    "    autores = []\n",
    "    for post in redeSocial:\n",
    "        if post['autor'] not in autores:    # se o nome do autor ainda não estiver na lista..\n",
    "            autores.append(post['autor'])   # juntar aos autores \n",
    "    autores.sort()                          # ordenar os autores por ordem alfabética \n",
    "    return  autores\n",
    "\n",
    "print(autores(MyFaceBook))"
   ]
  },
  {
   "cell_type": "markdown",
   "id": "1a0f760b",
   "metadata": {},
   "source": [
    "#### d) `insPost`, que acrescenta um novo post à rede social a partir dos parâmetros recebidos e devolve a nova rede social. \n",
    "    \n",
    "O campo `id` devrá ser calculado a partir dos já existentes, por exemplo, se a rede tiver posts com id `p1`, `p2` e `p3`, o novo `id` deverá ser `p4`."
   ]
  },
  {
   "cell_type": "code",
   "execution_count": null,
   "id": "a00c85e3",
   "metadata": {},
   "outputs": [
    {
     "name": "stdout",
     "output_type": "stream",
     "text": [
      "[{'id': 'p1', 'conteudo': 'A tarefa de avaliação é talvez a mais ingrata das tarefas que um professor tem de realizar...', 'autor': 'jcr', 'dataCriacao': '2023-07-20', 'comentarios': [{'comentario': 'Completamente de acordo...', 'autor': 'prh'}, {'comentario': 'Mas há quem goste...', 'autor': 'jj'}]}, {'id': 'p2', 'conteudo': 'O céu é azul', 'autor': 'ninguém', 'data de criação': '02-11-2024', 'comentários': 'E o sol amarelo, autor: alguém'}]\n"
     ]
    }
   ],
   "source": [
    "def insPost(redeSocial, conteudo, autor, dataCriacao, comentarios):\n",
    "    nome = \"p\" + str(quantosPost(MyFaceBook) + 1)       # contar quantos posts existem e acrescentar + 1\n",
    "    publi = {\"id\": nome, \"conteudo\": conteudo, \"autor\": autor, \"data de criação\": dataCriacao, \"comentários\": comentarios}\n",
    "    redeSocial.append(publi)\n",
    "\n",
    "    return redeSocial\n",
    "\n",
    "print(insPost(MyFaceBook, \"O céu é azul\", \"ninguém\", \"02-11-2024\", \"E o sol amarelo, autor: alguém\"))"
   ]
  },
  {
   "cell_type": "markdown",
   "id": "65061d0a",
   "metadata": {},
   "source": [
    "#### e)  `remPost`, que remove um post da rede, correspondente ao `id` recebido."
   ]
  },
  {
   "cell_type": "code",
   "execution_count": null,
   "id": "dc1adabc",
   "metadata": {},
   "outputs": [
    {
     "name": "stdout",
     "output_type": "stream",
     "text": [
      "[{'id': 'p2', 'conteudo': 'O céu é azul', 'autor': 'ninguém', 'data de criação': '02-11-2024', 'comentários': 'E o sol amarelo'}]\n"
     ]
    }
   ],
   "source": [
    "def remPost(redeSocial, id):\n",
    "    Npost = []                 # lista para os novos posts (sem o do id selecionado)\n",
    "    for post in redeSocial:\n",
    "        if post['id'] != id:    # se o id do post for diferente do id selcionado\n",
    "            Npost.append(post)  # junta-se à nova lista vazia\n",
    "    return Npost                # vai retornar a nova lista sem o id selecionado\n",
    "\n",
    "print(remPost(MyFaceBook, \"p1\"))"
   ]
  },
  {
   "cell_type": "markdown",
   "id": "de46a635",
   "metadata": {},
   "source": [
    "#### f) `postsPorAutor`, que devolve uma distribuição de posts por autor (à semelhança do que foi feito nas aulas)."
   ]
  },
  {
   "cell_type": "code",
   "execution_count": null,
   "id": "4118730d",
   "metadata": {},
   "outputs": [
    {
     "name": "stdout",
     "output_type": "stream",
     "text": [
      "[('jcr', {'id': 'p1', 'conteudo': 'A tarefa de avaliação é talvez a mais ingrata das tarefas que um professor tem de realizar...', 'autor': 'jcr', 'dataCriacao': '2023-07-20', 'comentarios': [{'comentario': 'Completamente de acordo...', 'autor': 'prh'}, {'comentario': 'Mas há quem goste...', 'autor': 'jj'}]}), ('ninguém', {'id': 'p2', 'conteudo': 'O céu é azul', 'autor': 'ninguém', 'data de criação': '02-11-2024', 'comentários': 'E o sol amarelo'})]\n"
     ]
    }
   ],
   "source": [
    "def postsPorAutor(redeSocial):\n",
    "    posts = []                  # lista para armazenar os tuplos (autor, post)\n",
    "    for post in redeSocial:\n",
    "        PostAutor = (post[\"autor\"], post)   # post['autor] -> quem valor de autor; post -> i próprio dicionário post\n",
    "        posts.append(PostAutor)\n",
    "\n",
    "    return posts\n",
    "\n",
    "print(postsPorAutor(MyFaceBook))"
   ]
  },
  {
   "cell_type": "markdown",
   "id": "5b1d7d7a",
   "metadata": {},
   "source": [
    "#### g) `comentadoPor`, que recebe um autor e devolve a lista de posts comentados por esse autor."
   ]
  },
  {
   "cell_type": "code",
   "execution_count": null,
   "id": "a91f2619",
   "metadata": {},
   "outputs": [
    {
     "data": {
      "text/plain": [
       "[('prh',\n",
       "  {'id': 'p1',\n",
       "   'conteudo': 'A tarefa de avaliação é talvez a mais ingrata das tarefas que um professor tem de realizar...',\n",
       "   'autor': 'jcr',\n",
       "   'dataCriacao': '2023-07-20',\n",
       "   'comentarios': [{'comentario': 'Completamente de acordo...',\n",
       "     'autor': 'prh'},\n",
       "    {'comentario': 'Mas há quem goste...', 'autor': 'jj'}]})]"
      ]
     },
     "execution_count": 30,
     "metadata": {},
     "output_type": "execute_result"
    }
   ],
   "source": [
    "def comentadoPor(redeSocial, autor):\n",
    "    Comentarios = []\n",
    "\n",
    "    for post in redeSocial:\n",
    "\n",
    "        if len(post[\"comentarios\"]) != 0:           # verificar se existe comentário\n",
    "            for comentario in post[\"comentarios\"]:  # acessar ao lugar dos comentários\n",
    "                if comentario[\"autor\"] == autor:    # se o autor do cometário correpsonde ao autor que queremos\n",
    "                    postComentario = (comentario[\"autor\"], post)    # tuplo do autor + post\n",
    "                    \n",
    "                    Comentarios.append(postComentario)              \n",
    "\n",
    "    return Comentarios\n",
    "\n",
    "comentadoPor(MyFaceBook, \"prh\")"
   ]
  }
 ],
 "metadata": {
  "kernelspec": {
   "display_name": "Python 3",
   "language": "python",
   "name": "python3"
  },
  "language_info": {
   "codemirror_mode": {
    "name": "ipython",
    "version": 3
   },
   "file_extension": ".py",
   "mimetype": "text/x-python",
   "name": "python",
   "nbconvert_exporter": "python",
   "pygments_lexer": "ipython3",
   "version": "3.12.6"
  }
 },
 "nbformat": 4,
 "nbformat_minor": 5
}
